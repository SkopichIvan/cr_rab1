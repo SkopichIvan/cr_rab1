{
 "cells": [
  {
   "cell_type": "code",
   "execution_count": null,
   "id": "e6e3c85a-bc2e-45e0-97e3-e07ad91248bc",
   "metadata": {},
   "outputs": [],
   "source": [
    "a = int(input('Введите число:'))\n",
    "l1 = [1, 2, 3, 4, 5, 6, 7]\n",
    "def func3(l1, a):\n",
    "    return l1.count(a)\n",
    "print('Кол-во повторений:', func1(l1, a))"
   ]
  },
  {
   "cell_type": "code",
   "execution_count": null,
   "id": "5440b57b-e2e1-4b78-831e-8fe1c4fac97b",
   "metadata": {},
   "outputs": [],
   "source": [
    "n = int(input('Введите число:'))\n",
    "l = [1, 2, 3, 4, 5, 6, 7, 8]\n",
    "def func1(l, n):\n",
    "    temp = list()\n",
    "    for i in l:\n",
    "        if i % n == 0:\n",
    "    temp.append(i)\n",
    "    return temp\n",
    "print('Выходной список:', func1(l, n))"
   ]
  },
  {
   "cell_type": "code",
   "execution_count": null,
   "id": "a57b2b3c-4834-49fc-8b59-3bb3979069e1",
   "metadata": {},
   "outputs": [],
   "source": [
    "x = list(range(1, 13))\n",
    "print('Старт:', x)\n",
    "def func4(x):\n",
    "    i = 0\n",
    "    while (i + 2) <= len(x):\n",
    "    x[i], x[i + 2] = x[i + 2], x[i]\n",
    "    i += 3\n",
    "    return x\n",
    "print('Вывод:', func4(x))"
   ]
  },
  {
   "cell_type": "code",
   "execution_count": null,
   "id": "d5d3adb0-8d7f-459a-b4d9-92e7f93a9250",
   "metadata": {},
   "outputs": [],
   "source": [
    "s1 = [1, 2, 5, 6, 7, 9]\n",
    "s2 = [6, 7, 4, 6, 1, -5]\n",
    "def func5(s1, s2):\n",
    "    s3 = list()\n",
    "    i = 0\n",
    "    while i < len(s1 + s2)/2:\n",
    "    s3.append(s1[i] - s2[i])\n",
    "    i += 1\n",
    "    return s3\n",
    "print('Выходные данные:', func5(s1, s2))"
   ]
  },
  {
   "cell_type": "code",
   "execution_count": null,
   "id": "f718da0c-53fe-412b-8e72-800d59a3abe5",
   "metadata": {},
   "outputs": [],
   "source": [
    "N = [-4,14, 16, 1, 0, -36, 1, -7, 22, 4, 45]\n",
    "def func7(N):\n",
    "    new_N = list()\n",
    "    for i in N:\n",
    "    if i > 0:\n",
    "    new_N.append(i)\n",
    "    new_N.sort()\n",
    "    return new_N\n",
    "print('Вывод:', func7(N))"
   ]
  },
  {
   "cell_type": "code",
   "execution_count": null,
   "id": "ab8b0045-ddd7-4e12-a69e-c26e79351db7",
   "metadata": {},
   "outputs": [],
   "source": []
  }
 ],
 "metadata": {
  "kernelspec": {
   "display_name": "Python 3 (ipykernel)",
   "language": "python",
   "name": "python3"
  },
  "language_info": {
   "codemirror_mode": {
    "name": "ipython",
    "version": 3
   },
   "file_extension": ".py",
   "mimetype": "text/x-python",
   "name": "python",
   "nbconvert_exporter": "python",
   "pygments_lexer": "ipython3",
   "version": "3.8.10"
  }
 },
 "nbformat": 4,
 "nbformat_minor": 5
}
